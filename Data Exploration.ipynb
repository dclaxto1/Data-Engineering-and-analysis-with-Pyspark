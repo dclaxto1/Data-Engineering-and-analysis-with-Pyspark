{
  "nbformat": 4,
  "nbformat_minor": 0,
  "metadata": {
    "colab": {
      "provenance": []
    },
    "kernelspec": {
      "name": "python3",
      "display_name": "Python 3"
    },
    "language_info": {
      "name": "python"
    }
  },
  "cells": [
    {
      "cell_type": "code",
      "execution_count": 1,
      "metadata": {
        "colab": {
          "base_uri": "https://localhost:8080/"
        },
        "id": "9fdIP0qJxprQ",
        "outputId": "8a33db3a-c27a-40bd-ff80-53f3492292a4"
      },
      "outputs": [
        {
          "output_type": "stream",
          "name": "stdout",
          "text": [
            "Collecting pyspark\n",
            "  Downloading pyspark-3.5.1.tar.gz (317.0 MB)\n",
            "\u001b[2K     \u001b[90m━━━━━━━━━━━━━━━━━━━━━━━━━━━━━━━━━━━━━━━━\u001b[0m \u001b[32m317.0/317.0 MB\u001b[0m \u001b[31m1.4 MB/s\u001b[0m eta \u001b[36m0:00:00\u001b[0m\n",
            "\u001b[?25h  Preparing metadata (setup.py) ... \u001b[?25l\u001b[?25hdone\n",
            "Requirement already satisfied: py4j==0.10.9.7 in /usr/local/lib/python3.10/dist-packages (from pyspark) (0.10.9.7)\n",
            "Building wheels for collected packages: pyspark\n",
            "  Building wheel for pyspark (setup.py) ... \u001b[?25l\u001b[?25hdone\n",
            "  Created wheel for pyspark: filename=pyspark-3.5.1-py2.py3-none-any.whl size=317488491 sha256=7ad6b04a0aad07604ba64be9acb72ead54bec8f740a374597e53bf0c516679a4\n",
            "  Stored in directory: /root/.cache/pip/wheels/80/1d/60/2c256ed38dddce2fdd93be545214a63e02fbd8d74fb0b7f3a6\n",
            "Successfully built pyspark\n",
            "Installing collected packages: pyspark\n",
            "Successfully installed pyspark-3.5.1\n"
          ]
        }
      ],
      "source": [
        "!pip install pyspark"
      ]
    },
    {
      "cell_type": "code",
      "source": [
        "from google.colab import files\n",
        "from google.colab import drive\n",
        "from pyspark.sql import SparkSession\n",
        "from pyspark.sql.functions import to_date, when, floor, datediff, current_date, avg, count\n",
        "from pyspark.sql.functions import year\n",
        "from pyspark.sql.functions import col\n",
        "from pyspark.sql.functions import count, desc, row_number\n",
        "from pyspark.sql.window import Window"
      ],
      "metadata": {
        "id": "EyJGCGN3xxKt"
      },
      "execution_count": 45,
      "outputs": []
    },
    {
      "cell_type": "code",
      "source": [
        "#initializing Spark session\n",
        "\n",
        "spark = SparkSession.builder.appName(\"Data exploration - State Farm\").config(\"spark.sql.legacy.timeParserPolicy\", \"LEGACY\").getOrCreate()"
      ],
      "metadata": {
        "id": "yOSyhBx7xxNN"
      },
      "execution_count": 36,
      "outputs": []
    },
    {
      "cell_type": "code",
      "source": [
        "combined_info_df = spark.read.parquet(\"part-*.snappy.parquet\")"
      ],
      "metadata": {
        "id": "Iwp9F13nxxP1"
      },
      "execution_count": 37,
      "outputs": []
    },
    {
      "cell_type": "code",
      "source": [
        "combined_info_df = combined_info_df.withColumn(\"Customer Age\", floor(datediff(current_date(), col(\"Date of Birth\")) / 365))"
      ],
      "metadata": {
        "id": "KFEvznQFy-R2"
      },
      "execution_count": 38,
      "outputs": []
    },
    {
      "cell_type": "markdown",
      "source": [
        "# how many customers are in each group?"
      ],
      "metadata": {
        "id": "p6fdx_8L05CB"
      }
    },
    {
      "cell_type": "code",
      "source": [
        "# which age group has the most claims?\n",
        "age_groups_df_og = combined_info_df.withColumn(\n",
        "    \"AgeGroup\",\n",
        "    when(col(\"Customer Age\") < 18, \"Under 18\")\n",
        "    .when((col(\"Customer Age\") >= 18) & (col(\"Customer Age\") < 25), \"18-24\")\n",
        "    .when((col(\"Customer Age\") >= 25) & (col(\"Customer Age\") < 35), \"25-34\")\n",
        "    .when((col(\"Customer Age\") >= 35) & (col(\"Customer Age\") < 45), \"35-44\")\n",
        "    .when((col(\"Customer Age\") >= 45) & (col(\"Customer Age\") < 55), \"45-54\")\n",
        "    .when((col(\"Customer Age\") >= 55) & (col(\"Customer Age\") < 65), \"55-64\")\n",
        "    .otherwise(\"65 and Over\")\n",
        ")\n",
        "\n",
        "claims_by_age_group = age_groups_df.groupBy(\"AgeGroup\").count()\n",
        "\n",
        "# Sort by claim count in descending order\n",
        "claims_by_age_group = claims_by_age_group.orderBy(\"count\", ascending=False)"
      ],
      "metadata": {
        "id": "pR8AOCDyxxSN"
      },
      "execution_count": 39,
      "outputs": []
    },
    {
      "cell_type": "code",
      "source": [
        "claims_by_age_group.show()"
      ],
      "metadata": {
        "colab": {
          "base_uri": "https://localhost:8080/"
        },
        "id": "6yDHQnD1xxUd",
        "outputId": "9c515b30-c0dc-46f8-fd39-a76ad97db910"
      },
      "execution_count": 24,
      "outputs": [
        {
          "output_type": "stream",
          "name": "stdout",
          "text": [
            "+-----------+------+\n",
            "|   AgeGroup| count|\n",
            "+-----------+------+\n",
            "|65 and Over|272098|\n",
            "|      25-34|134384|\n",
            "|      35-44|131985|\n",
            "|      18-24|127949|\n",
            "|      55-64| 73903|\n",
            "|      45-54| 59373|\n",
            "|   Under 18| 46113|\n",
            "+-----------+------+\n",
            "\n"
          ]
        }
      ]
    },
    {
      "cell_type": "markdown",
      "source": [
        "# which age group has the most claims?"
      ],
      "metadata": {
        "id": "KyJZYo03006X"
      }
    },
    {
      "cell_type": "code",
      "source": [
        "filtered_claims_df = combined_info_df.filter(col(\"Claim Payout\") != 0)\n",
        "\n",
        "age_groups_df = filtered_claims_df.withColumn(\n",
        "    \"AgeGroup\",\n",
        "    when(col(\"Customer Age\") < 18, \"Under 18\")\n",
        "    .when((col(\"Customer Age\") >= 18) & (col(\"Customer Age\") < 25), \"18-24\")\n",
        "    .when((col(\"Customer Age\") >= 25) & (col(\"Customer Age\") < 35), \"25-34\")\n",
        "    .when((col(\"Customer Age\") >= 35) & (col(\"Customer Age\") < 45), \"35-44\")\n",
        "    .when((col(\"Customer Age\") >= 45) & (col(\"Customer Age\") < 55), \"45-54\")\n",
        "    .when((col(\"Customer Age\") >= 55) & (col(\"Customer Age\") < 65), \"55-64\")\n",
        "    .otherwise(\"65 and Over\")\n",
        ")\n",
        "\n",
        "# Group by age group and count claims\n",
        "num_claims_by_age_group = age_groups_df.groupBy(\"AgeGroup\").count()\n",
        "num_claims_by_age_group = claims_by_age_group.orderBy(\"count\", ascending=False)"
      ],
      "metadata": {
        "id": "mgYsoEG-xxWl"
      },
      "execution_count": 32,
      "outputs": []
    },
    {
      "cell_type": "code",
      "source": [
        "num_claims_by_age_group.show()"
      ],
      "metadata": {
        "colab": {
          "base_uri": "https://localhost:8080/"
        },
        "id": "YOVKPr_yxxY1",
        "outputId": "0ed4d493-64ec-426b-833a-80fddee17c4d"
      },
      "execution_count": 33,
      "outputs": [
        {
          "output_type": "stream",
          "name": "stdout",
          "text": [
            "+-----------+-----+\n",
            "|   AgeGroup|count|\n",
            "+-----------+-----+\n",
            "|65 and Over| 2028|\n",
            "|      35-44| 1040|\n",
            "|      25-34|  998|\n",
            "|      18-24|  922|\n",
            "|      55-64|  572|\n",
            "|      45-54|  469|\n",
            "|   Under 18|  338|\n",
            "+-----------+-----+\n",
            "\n"
          ]
        }
      ]
    },
    {
      "cell_type": "code",
      "source": [
        "# How many people are in each age group?\n",
        "\n",
        "num_age_group = age_groups_df_og.groupBy(\"AgeGroup\").count()\n",
        "\n",
        "# Sort by claim count in descending order\n",
        "claims_by_age_group = claims_by_age_group.orderBy(\"count\", ascending=False)"
      ],
      "metadata": {
        "id": "u_wV5Xyi1Aze"
      },
      "execution_count": 34,
      "outputs": []
    },
    {
      "cell_type": "code",
      "source": [
        "claims_by_age_group.show()"
      ],
      "metadata": {
        "colab": {
          "base_uri": "https://localhost:8080/"
        },
        "id": "rH1RhsPL2SP2",
        "outputId": "8d2c9eaf-4e45-49de-fa47-618c620bd12c"
      },
      "execution_count": 35,
      "outputs": [
        {
          "output_type": "stream",
          "name": "stdout",
          "text": [
            "+-----------+-----+\n",
            "|   AgeGroup|count|\n",
            "+-----------+-----+\n",
            "|65 and Over| 2028|\n",
            "|      35-44| 1040|\n",
            "|      25-34|  998|\n",
            "|      18-24|  922|\n",
            "|      55-64|  572|\n",
            "|      45-54|  469|\n",
            "|   Under 18|  338|\n",
            "+-----------+-----+\n",
            "\n"
          ]
        }
      ]
    },
    {
      "cell_type": "markdown",
      "source": [
        "# What marital status has the highest average claims?"
      ],
      "metadata": {
        "id": "5bnprU_W2SSO"
      }
    },
    {
      "cell_type": "code",
      "source": [
        "divorced_df = combined_info_df.filter(combined_info_df[\"Marital Status\"] == \"D\")\n",
        "married_df = combined_info_df.filter(combined_info_df[\"Marital Status\"] == \"M\")\n",
        "single_df = combined_info_df.filter(combined_info_df[\"Marital Status\"] == \"S\")\n",
        "widow_df = combined_info_df.filter(combined_info_df[\"Marital Status\"] == \"W\")\n",
        "\n",
        "# Calculate the average claim payout for each group\n",
        "avg_claim_payout_divorced = divorced_df.agg(avg(\"Claim Payout\")).collect()[0][0]\n",
        "avg_claim_payout_married = married_df.agg(avg(\"Claim Payout\")).collect()[0][0]\n",
        "avg_claim_payout_single = single_df.agg(avg(\"Claim Payout\")).collect()[0][0]\n",
        "avg_claim_payout_widow = widow_df.agg(avg(\"Claim Payout\")).collect()[0][0]\n",
        "\n",
        "# Display the average claim payout for each group\n",
        "print(\"Average Claim Payout for Divorced:\", avg_claim_payout_divorced)\n",
        "print(\"Average Claim Payout for Married:\", avg_claim_payout_married)\n",
        "print(\"Average Claim Payout for Single:\", avg_claim_payout_single)\n",
        "print(\"Average Claim Payout for Widow:\", avg_claim_payout_widow)"
      ],
      "metadata": {
        "colab": {
          "base_uri": "https://localhost:8080/"
        },
        "id": "_VzpoCaT2SUm",
        "outputId": "ff5507d4-7e67-48b9-dd07-38ff7fb8ae4e"
      },
      "execution_count": 41,
      "outputs": [
        {
          "output_type": "stream",
          "name": "stdout",
          "text": [
            "Average Claim Payout for Divorced: 1232.0013591265347\n",
            "Average Claim Payout for Married: 1226.8023464071528\n",
            "Average Claim Payout for Single: 1200.8047799723413\n",
            "Average Claim Payout for Widow: 1031.8701934418496\n"
          ]
        }
      ]
    },
    {
      "cell_type": "markdown",
      "source": [
        "#finding total number of claims per merital status"
      ],
      "metadata": {
        "id": "IJlCO42u6iHZ"
      }
    },
    {
      "cell_type": "code",
      "source": [
        "#finding total number of claims per merital status\n",
        "\n",
        "divorced_df = combined_info_df.filter(combined_info_df[\"Marital Status\"] == \"D\")\n",
        "married_df = combined_info_df.filter(combined_info_df[\"Marital Status\"] == \"M\")\n",
        "single_df = combined_info_df.filter(combined_info_df[\"Marital Status\"] == \"S\")\n",
        "widow_df = combined_info_df.filter(combined_info_df[\"Marital Status\"] == \"W\")\n"
      ],
      "metadata": {
        "id": "OjzmBf_C5qG5"
      },
      "execution_count": null,
      "outputs": []
    },
    {
      "cell_type": "code",
      "source": [
        "customers_per_marital_status = combined_info_df.groupBy(\"Marital Status\").agg(count(\"CUST_ID\").alias(\"Total Customers\"))"
      ],
      "metadata": {
        "id": "CFQE-8lu5qJx"
      },
      "execution_count": 46,
      "outputs": []
    },
    {
      "cell_type": "code",
      "source": [
        "customers_per_marital_status.show()"
      ],
      "metadata": {
        "colab": {
          "base_uri": "https://localhost:8080/"
        },
        "id": "b8hnEdJQ5qMB",
        "outputId": "2cb295bb-b801-42fd-b36e-83f6576bca8c"
      },
      "execution_count": 47,
      "outputs": [
        {
          "output_type": "stream",
          "name": "stdout",
          "text": [
            "+--------------+---------------+\n",
            "|Marital Status|Total Customers|\n",
            "+--------------+---------------+\n",
            "|             M|         281963|\n",
            "|             D|         264876|\n",
            "|             W|          16956|\n",
            "|             S|         282010|\n",
            "+--------------+---------------+\n",
            "\n"
          ]
        }
      ]
    },
    {
      "cell_type": "code",
      "source": [
        "# most popular car per age group\n",
        "\n",
        "from pyspark.sql.functions import count, desc, row_number\n",
        "from pyspark.sql.window import Window\n",
        "\n",
        "# Group the DataFrame by marital status and car make, and count the number of occurrences\n",
        "marital_status_car_count = combined_info_df.groupBy(\"Marital Status\", \"Make\").agg(count(\"*\").alias(\"Count\"))\n",
        "\n",
        "# Define a window specification to partition by marital status and order by count in descending order\n",
        "window_spec = Window.partitionBy(\"Marital Status\").orderBy(desc(\"Count\"))\n",
        "\n",
        "# Assign row numbers to each row within each partition (marital status group)\n",
        "marital_status_car_count = marital_status_car_count.withColumn(\"rn\", row_number().over(window_spec))\n",
        "\n",
        "# Filter to keep only the rows with the highest count for each marital status group\n",
        "most_popular_cars_per_marital_status = marital_status_car_count.filter(col(\"rn\") == 1)\n",
        "\n",
        "# Show the most popular car make for each marital status\n",
        "most_popular_cars_per_marital_status.show()\n"
      ],
      "metadata": {
        "colab": {
          "base_uri": "https://localhost:8080/"
        },
        "id": "N_thWKlo2SW2",
        "outputId": "905008e5-df5e-48cb-955e-eba1645bb3ba"
      },
      "execution_count": 48,
      "outputs": [
        {
          "output_type": "stream",
          "name": "stdout",
          "text": [
            "+--------------+-------------+-----+---+\n",
            "|Marital Status|         Make|Count| rn|\n",
            "+--------------+-------------+-----+---+\n",
            "|             D|Manufacturer1|53194|  1|\n",
            "|             M|Manufacturer2|56506|  1|\n",
            "|             S|Manufacturer2|56662|  1|\n",
            "|             W|Manufacturer2| 3453|  1|\n",
            "+--------------+-------------+-----+---+\n",
            "\n"
          ]
        }
      ]
    }
  ]
}