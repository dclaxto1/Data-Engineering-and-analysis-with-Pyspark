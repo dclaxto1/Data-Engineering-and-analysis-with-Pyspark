{
  "cells": [
    {
      "cell_type": "markdown",
      "metadata": {
        "id": "UqgFfzrNf991"
      },
      "source": [
        "# Importing dependencies/libraries needed + initial setup"
      ]
    },
    {
      "cell_type": "code",
      "execution_count": 1,
      "metadata": {
        "colab": {
          "base_uri": "https://localhost:8080/"
        },
        "id": "FhixjLFTxxfM",
        "outputId": "d3fe9619-f587-4cb4-e605-52b8a7287fae"
      },
      "outputs": [
        {
          "name": "stdout",
          "output_type": "stream",
          "text": [
            "Collecting pyspark\n",
            "  Using cached pyspark-3.5.1.tar.gz (317.0 MB)\n",
            "  Preparing metadata (setup.py) ... \u001b[?25l\u001b[?25hdone\n",
            "Requirement already satisfied: py4j==0.10.9.7 in /usr/local/lib/python3.10/dist-packages (from pyspark) (0.10.9.7)\n",
            "Building wheels for collected packages: pyspark\n",
            "  Building wheel for pyspark (setup.py) ... \u001b[?25l\u001b[?25hdone\n",
            "  Created wheel for pyspark: filename=pyspark-3.5.1-py2.py3-none-any.whl size=317488491 sha256=c7a1f6a2a89604b9cedd5de1dad6206b4485b9d288f7090c5a6e5638af22037c\n",
            "  Stored in directory: /root/.cache/pip/wheels/80/1d/60/2c256ed38dddce2fdd93be545214a63e02fbd8d74fb0b7f3a6\n",
            "Successfully built pyspark\n",
            "Installing collected packages: pyspark\n",
            "Successfully installed pyspark-3.5.1\n"
          ]
        }
      ],
      "source": [
        "#installing pyspark in this environment\n",
        "\n",
        "!pip install pyspark"
      ]
    },
    {
      "cell_type": "code",
      "execution_count": 30,
      "metadata": {
        "id": "Elg3qmlTxowf"
      },
      "outputs": [],
      "source": [
        "#importing the package that I'm going to use to combine the three csv files into one dataframe and clean them\n",
        "\n",
        "from google.colab import files\n",
        "from google.colab import drive\n",
        "from pyspark.sql import SparkSession\n",
        "from pyspark.sql.functions import to_date\n",
        "from pyspark.sql.functions import year\n",
        "from pyspark.sql.functions import col\n"
      ]
    },
    {
      "cell_type": "code",
      "execution_count": 3,
      "metadata": {
        "id": "2LAZjVVGxqgB"
      },
      "outputs": [],
      "source": [
        "#initializing Spark session\n",
        "\n",
        "spark = SparkSession.builder.appName(\"Data Engineering Activity - State Farm\").config(\"spark.sql.legacy.timeParserPolicy\", \"LEGACY\").getOrCreate()"
      ]
    },
    {
      "cell_type": "code",
      "execution_count": 4,
      "metadata": {
        "id": "7Q5UklMRxqpY"
      },
      "outputs": [],
      "source": [
        "#reading in the three csv files and placing them in their own dateframe.\n",
        "\n",
        "households_df = spark.read.csv(\"HOUSEHOLDS.csv\", header=True)\n",
        "customers_df = spark.read.csv(\"CUSTOMERS.csv\", header=True)\n",
        "cars_df = spark.read.csv(\"CARS.csv\", header=True)"
      ]
    },
    {
      "cell_type": "markdown",
      "metadata": {
        "id": "CwogkMuMhNHF"
      },
      "source": [
        "# Doing initial examination of each dataframe to look for anything suspicious or unusual - will address as needed."
      ]
    },
    {
      "cell_type": "code",
      "execution_count": 5,
      "metadata": {
        "colab": {
          "base_uri": "https://localhost:8080/"
        },
        "id": "F42-Ym8UhajU",
        "outputId": "b3b5af95-d59b-40f6-fbfc-cabb2dd3015c"
      },
      "outputs": [
        {
          "name": "stdout",
          "output_type": "stream",
          "text": [
            "+---------+---------+------+---------+-------------+--------------+-----+-----+-------+---------------+\n",
            "|    HH_ID|  CUST_ID|CAR_ID|Active HH|HH Start Date|  Phone Number| ZIP |State|Country|Referral Source|\n",
            "+---------+---------+------+---------+-------------+--------------+-----+-----+-------+---------------+\n",
            "|219790301|801198110|844435|        1|     11/18/22|(709) 379-9036|70442|   OK|    USA|          Other|\n",
            "|219790301|281855167|410619|        1|     11/18/22|(740) 565-4060|70442|   OK|    USA|          Other|\n",
            "|219790301|688373183|192812|        1|     11/18/22|(117) 457-9582|70442|   OK|    USA|          Other|\n",
            "|219790301|752746800|752033|        1|     11/18/22|(536) 797-5920|70442|   OK|    USA|          Other|\n",
            "|464806390|114187354| 23783|        1|      10/9/20|(152) 373-1773|42706|   NY|    USA|          Event|\n",
            "+---------+---------+------+---------+-------------+--------------+-----+-----+-------+---------------+\n",
            "only showing top 5 rows\n",
            "\n"
          ]
        }
      ],
      "source": [
        "#displaying the first five rows of household df - ZIP has a space after it - will remove.\n",
        "\n",
        "households_df.show(5)"
      ]
    },
    {
      "cell_type": "code",
      "execution_count": 6,
      "metadata": {
        "colab": {
          "base_uri": "https://localhost:8080/"
        },
        "id": "vZI_RBRiAojC",
        "outputId": "746c333b-e20b-413d-90cc-fd0d4382bdcd"
      },
      "outputs": [
        {
          "name": "stdout",
          "output_type": "stream",
          "text": [
            "+---------+---------+------+---------+-------------+--------------+-----+--------+-------+---------------+\n",
            "|    HH_ID|  CUST_ID|CAR_ID|Active HH|HH Start Date|  Phone Number|  ZIP|HH State|Country|Referral Source|\n",
            "+---------+---------+------+---------+-------------+--------------+-----+--------+-------+---------------+\n",
            "|219790301|801198110|844435|        1|     11/18/22|(709) 379-9036|70442|      OK|    USA|          Other|\n",
            "|219790301|281855167|410619|        1|     11/18/22|(740) 565-4060|70442|      OK|    USA|          Other|\n",
            "|219790301|688373183|192812|        1|     11/18/22|(117) 457-9582|70442|      OK|    USA|          Other|\n",
            "|219790301|752746800|752033|        1|     11/18/22|(536) 797-5920|70442|      OK|    USA|          Other|\n",
            "|464806390|114187354| 23783|        1|      10/9/20|(152) 373-1773|42706|      NY|    USA|          Event|\n",
            "+---------+---------+------+---------+-------------+--------------+-----+--------+-------+---------------+\n",
            "only showing top 5 rows\n",
            "\n"
          ]
        }
      ],
      "source": [
        "#removing whitespace from ZIP column and renaming 'state' to 'HH State' so it isn't confusing from the 'State' column from the cars.csv\n",
        "\n",
        "households_df = households_df.withColumnRenamed(\"ZIP \", \"ZIP\")\n",
        "households_df = households_df.withColumnRenamed(\"State\", \"HH State\")\n",
        "households_df.show(5)"
      ]
    },
    {
      "cell_type": "code",
      "execution_count": 7,
      "metadata": {
        "colab": {
          "base_uri": "https://localhost:8080/"
        },
        "id": "YVe2VQzshrzb",
        "outputId": "58d9193f-98df-4a14-fa83-1bbc9333556e"
      },
      "outputs": [
        {
          "name": "stdout",
          "output_type": "stream",
          "text": [
            "+---------+-------------+------+--------------+--------------------+------+----+----+----+----+----+----+----+----+----+----+\n",
            "|  CUST_ID|Date of Birth|Gender|Marital Status|     Employment Type|Income| _c6| _c7| _c8| _c9|_c10|_c11|_c12|_c13|_c14|_c15|\n",
            "+---------+-------------+------+--------------+--------------------+------+----+----+----+----+----+----+----+----+----+----+\n",
            "|801198110|    11/6/2002|     F|             D|             Student|     0|NULL|NULL|NULL|NULL|NULL|NULL|NULL|NULL|NULL|NULL|\n",
            "|281855167|    6/23/1955|     F|             D|             Retired|     0|NULL|NULL|NULL|NULL|NULL|NULL|NULL|NULL|NULL|NULL|\n",
            "|688373183|    8/16/1996|     M|             M|Office and Admini...| 42052|NULL|NULL|NULL|NULL|NULL|NULL|NULL|NULL|NULL|NULL|\n",
            "|752746800|    8/22/1936|     M|             M|             Retired|     0|NULL|NULL|NULL|NULL|NULL|NULL|NULL|NULL|NULL|NULL|\n",
            "|114187354|    3/18/2008|     M|             D|   Sales and Related| 60879|NULL|NULL|NULL|NULL|NULL|NULL|NULL|NULL|NULL|NULL|\n",
            "+---------+-------------+------+--------------+--------------------+------+----+----+----+----+----+----+----+----+----+----+\n",
            "only showing top 5 rows\n",
            "\n"
          ]
        }
      ],
      "source": [
        "#displaying the first five rows of customer df - immediately notice empty columns containing nothing but null (verified this by looking in the csv and doing df.info() in a seperate pandas dataframe) - will drop those columns before continuing\n",
        "\n",
        "customers_df.show(5)"
      ]
    },
    {
      "cell_type": "code",
      "execution_count": 8,
      "metadata": {
        "colab": {
          "base_uri": "https://localhost:8080/"
        },
        "id": "QbQyQtzlg-0Q",
        "outputId": "0a691f06-9d33-4073-f253-9e0e5e18329a"
      },
      "outputs": [
        {
          "name": "stdout",
          "output_type": "stream",
          "text": [
            "+---------+-------------+------+--------------+--------------------+------+\n",
            "|  CUST_ID|Date of Birth|Gender|Marital Status|     Employment Type|Income|\n",
            "+---------+-------------+------+--------------+--------------------+------+\n",
            "|801198110|    11/6/2002|     F|             D|             Student|     0|\n",
            "|281855167|    6/23/1955|     F|             D|             Retired|     0|\n",
            "|688373183|    8/16/1996|     M|             M|Office and Admini...| 42052|\n",
            "|752746800|    8/22/1936|     M|             M|             Retired|     0|\n",
            "|114187354|    3/18/2008|     M|             D|   Sales and Related| 60879|\n",
            "+---------+-------------+------+--------------+--------------------+------+\n",
            "only showing top 5 rows\n",
            "\n"
          ]
        }
      ],
      "source": [
        "#dropping the empty columns from the customers df that I identified above and then displaying the cleaned df\n",
        "\n",
        "customer_cleaned_df = customers_df.drop('_c6', '_c7', '_c8', '_c9', '_c10', '_c11', '_c12', '_c13', '_c14', '_c15')\n",
        "customer_cleaned_df.show(5)"
      ]
    },
    {
      "cell_type": "code",
      "execution_count": 9,
      "metadata": {
        "colab": {
          "base_uri": "https://localhost:8080/"
        },
        "id": "44wjy5CSiYkn",
        "outputId": "27ce838d-d160-4986-f08f-e567479abb53"
      },
      "outputs": [
        {
          "name": "stdout",
          "output_type": "stream",
          "text": [
            "+------+--------+-----+----+-------------+----------+-------------+-------------------+------------+---------------+----+-----+----------------------+-----------------------+------------+----------------------+\n",
            "|Car ID|  Status|State|Year|         Make|Body Style|Vehicle Value|Annual Miles Driven|Business Use|Antique Vehicle|Lien|Lease|Driver Safety Discount|Vehicle Safety Discount|Claim Payout|6 Month Premium Amount|\n",
            "+------+--------+-----+----+-------------+----------+-------------+-------------------+------------+---------------+----+-----+----------------------+-----------------------+------------+----------------------+\n",
            "|844435|In Force|   OK|1990|Manufacturer7|    4 door|        50000|                 56|           0|              1|   1|    0|                     0|                      1|           0|                 42.89|\n",
            "|410619|In Force|   OK|2019|Manufacturer5|       SUV|      8151.75|              12136|           0|              0|   0|    1|                     0|                      1|           0|           58.88769523|\n",
            "|192812|In Force|   OK|2008|Manufacturer2|       SUV|       1651.2|              14674|           0|              0|   1|    0|                     0|                      1|           0|            322.307381|\n",
            "|752033|In Force|   OK|1973|Manufacturer2|     Truck|          500|              15762|           0|              0|   1|    0|                     0|                      0|           0|            232.670242|\n",
            "| 23783|In Force|   NY|2022|Manufacturer3|       SUV|      18873.9|              10154|           0|              0|   1|    0|                     0|                      1|           0|           167.4320143|\n",
            "+------+--------+-----+----+-------------+----------+-------------+-------------------+------------+---------------+----+-----+----------------------+-----------------------+------------+----------------------+\n",
            "only showing top 5 rows\n",
            "\n"
          ]
        }
      ],
      "source": [
        "#displaying the first five rows of cars df - noticed the first column is named \"Car ID\". I'm changing it to \"CAR_ID\" to be uniform with other dataframes\n",
        "\n",
        "cars_df.show(5)"
      ]
    },
    {
      "cell_type": "code",
      "execution_count": 10,
      "metadata": {
        "colab": {
          "base_uri": "https://localhost:8080/"
        },
        "id": "4w0weSWFxqzY",
        "outputId": "eff3bc8a-9ca0-45e2-f53d-5f3f56cc48b5"
      },
      "outputs": [
        {
          "name": "stdout",
          "output_type": "stream",
          "text": [
            "+------+--------+---------+----+-------------+----------+-------------+-------------------+------------+---------------+----+-----+----------------------+-----------------------+------------+----------------------+\n",
            "|CAR_ID|  Status|Car State|Year|         Make|Body Style|Vehicle Value|Annual Miles Driven|Business Use|Antique Vehicle|Lien|Lease|Driver Safety Discount|Vehicle Safety Discount|Claim Payout|6 Month Premium Amount|\n",
            "+------+--------+---------+----+-------------+----------+-------------+-------------------+------------+---------------+----+-----+----------------------+-----------------------+------------+----------------------+\n",
            "|844435|In Force|       OK|1990|Manufacturer7|    4 door|        50000|                 56|           0|              1|   1|    0|                     0|                      1|           0|                 42.89|\n",
            "|410619|In Force|       OK|2019|Manufacturer5|       SUV|      8151.75|              12136|           0|              0|   0|    1|                     0|                      1|           0|           58.88769523|\n",
            "|192812|In Force|       OK|2008|Manufacturer2|       SUV|       1651.2|              14674|           0|              0|   1|    0|                     0|                      1|           0|            322.307381|\n",
            "|752033|In Force|       OK|1973|Manufacturer2|     Truck|          500|              15762|           0|              0|   1|    0|                     0|                      0|           0|            232.670242|\n",
            "| 23783|In Force|       NY|2022|Manufacturer3|       SUV|      18873.9|              10154|           0|              0|   1|    0|                     0|                      1|           0|           167.4320143|\n",
            "+------+--------+---------+----+-------------+----------+-------------+-------------------+------------+---------------+----+-----+----------------------+-----------------------+------------+----------------------+\n",
            "only showing top 5 rows\n",
            "\n"
          ]
        }
      ],
      "source": [
        "#renaming the column 'Car ID' to 'CAR_ID' in the cars df for uniformity. Also chaning state to Car State for clarity and displaying the result\n",
        "\n",
        "cars_df = cars_df.withColumnRenamed(\"Car ID\", \"CAR_ID\")\n",
        "cars_df = cars_df.withColumnRenamed(\"State\", \"Car State\")\n",
        "cars_df.show(5)"
      ]
    },
    {
      "cell_type": "markdown",
      "metadata": {
        "id": "mBVEMlGLcu2l"
      },
      "source": [
        "# Checking each dataframe for duplicates and removing them if neccessary"
      ]
    },
    {
      "cell_type": "markdown",
      "metadata": {
        "id": "GYpz2XS2njYC"
      },
      "source": [
        "**Considerations: my methodology for handling duplicates was built around missing business knowledge.**\n",
        "I removed 'true' duplicates from each dataframe - meaning rows that contained duplicate values of each column. I did this in lieu of knowing the specific business rule for handling specific duplicated columns. For example: I don't know whether or not the customer df should contain duplicated Cust_ID values or not. This would be a specific business rule I would want to verify before removing from the dateframe. As such, I have decided to proceed with only 'true' duplicates removed. *There ended up being no true duplicates*"
      ]
    },
    {
      "cell_type": "code",
      "execution_count": 11,
      "metadata": {
        "id": "rvUKw6mDcu5l"
      },
      "outputs": [],
      "source": [
        "#dropping duplicate records from each df\n",
        "\n",
        "household_no_duplicates_df = households_df.dropDuplicates(['HH_ID', 'CUST_ID', 'CAR_ID', 'Active HH', 'HH Start Date', 'Phone Number', 'ZIP', 'HH State', 'Country', 'Referral Source'])\n",
        "customer_no_duplicates_df = customer_cleaned_df.dropDuplicates(['CUST_ID', 'Date of Birth', 'Gender', 'Marital Status', 'Employment Type', 'Income'])\n",
        "car_no_duplicates_df = cars_df.dropDuplicates(['CAR_ID', 'Status', 'Car State', 'Year', 'Make', 'Body Style', 'Vehicle Value', 'Annual Miles Driven', 'Business Use', 'Antique Vehicle', 'Lien', 'Lease', 'Driver Safety Discount', 'Vehicle Safety Discount', 'Claim Payout', '6 Month Premium Amount'])\n"
      ]
    },
    {
      "cell_type": "code",
      "execution_count": 13,
      "metadata": {
        "colab": {
          "base_uri": "https://localhost:8080/"
        },
        "id": "lpql5Ts1cu8V",
        "outputId": "30cbde93-ffc1-40ca-924a-620773b32b77"
      },
      "outputs": [
        {
          "name": "stdout",
          "output_type": "stream",
          "text": [
            "No duplicates found.\n"
          ]
        }
      ],
      "source": [
        "#counting rows before removing duplicates\n",
        "row_count_before = cars_df.count()\n",
        "\n",
        "#dropping 'true' duplicates based all of the columns in that specific dataset\n",
        "df_no_duplicates = cars_df.dropDuplicates(['Car_ID', 'Status', 'Car State', 'Year', 'Make', 'Body Style', 'Vehicle Value', 'Annual Miles Driven', 'Business Use', 'Antique Vehicle', 'Lien', 'Lease', 'Driver Safety Discount', 'Vehicle Safety Discount', 'Claim Payout', '6 Month Premium Amount'])\n",
        "#counting the number of rows after dropping duplicates from the df\n",
        "row_count_after = df_no_duplicates.count()\n",
        "\n",
        "#using a simple if/else statement to check if there are any duplicates\n",
        "if row_count_before == row_count_after:\n",
        "    print(\"No duplicates found.\")\n",
        "else:\n",
        "    print(\"Duplicates found and removed.\")\n",
        "\n",
        "# I repeated this for each of the three provided dataframes and found there were no 'true' duplicates. I did this to verify/visualize the duplicates being removed. This step isn't neccessay - it was purely for\n",
        "# my confirmation of duplicate handling"
      ]
    },
    {
      "cell_type": "markdown",
      "metadata": {
        "id": "yTYn9J70xqm4"
      },
      "source": [
        "# Joining the dataframes.\n",
        "I joined the household df to customers df using cust_id. Then joined the combined df to cars df on car_id because cars.csv doesn't have cust_id."
      ]
    },
    {
      "cell_type": "code",
      "execution_count": 14,
      "metadata": {
        "colab": {
          "base_uri": "https://localhost:8080/"
        },
        "id": "wgSN3nfjxquh",
        "outputId": "7662c395-befa-4418-9be7-8674f3790055"
      },
      "outputs": [
        {
          "name": "stdout",
          "output_type": "stream",
          "text": [
            "+---------+---------+------+---------+-------------+--------------+-----+--------+-------+---------------+-------------+------+--------------+--------------------+------+\n",
            "|  CUST_ID|    HH_ID|CAR_ID|Active HH|HH Start Date|  Phone Number|  ZIP|HH State|Country|Referral Source|Date of Birth|Gender|Marital Status|     Employment Type|Income|\n",
            "+---------+---------+------+---------+-------------+--------------+-----+--------+-------+---------------+-------------+------+--------------+--------------------+------+\n",
            "|100000879|275102439| 62733|        1|       9/8/94|(614) 544-8736|91345|      MS|    USA|         Friend|     4/5/1934|     M|             M|             Retired|     0|\n",
            "|100001310|230609660|326012|        1|     10/28/92|(646) 714-1424|81287|      IN|    USA|  Advertisement|   11/10/1924|     F|             M|             Retired|     0|\n",
            "|100003675|338410484|676707|        1|     12/26/22|(696) 693-1646|60712|      OH|    USA|          Event|    9/13/2006|     M|             M|             Student|     0|\n",
            "|100012907|634977650|  5316|        1|      12/3/11|(410) 221-3357|89570|      WY|    USA|   Social Media|     1/3/1998|     F|             M|Healthcare Practi...|163536|\n",
            "|100021879|610250678| 48803|        1|      11/8/89|(236) 297-3344|29906|      TN|    USA|        Website|    10/2/1979|     M|             S|          Management|194373|\n",
            "+---------+---------+------+---------+-------------+--------------+-----+--------+-------+---------------+-------------+------+--------------+--------------------+------+\n",
            "only showing top 5 rows\n",
            "\n"
          ]
        }
      ],
      "source": [
        "#joining the household df to the customers df on the CUSt_ID column\n",
        "\n",
        "initial_joined_households_customers_df = households_df.join(customer_cleaned_df, 'CUST_ID', 'inner')\n",
        "initial_joined_households_customers_df.show(5)"
      ]
    },
    {
      "cell_type": "code",
      "execution_count": 15,
      "metadata": {
        "colab": {
          "base_uri": "https://localhost:8080/"
        },
        "id": "u1Hlrf9Pcu-9",
        "outputId": "ba0affc7-d5e4-425e-e239-6aaed9e3a158"
      },
      "outputs": [
        {
          "name": "stdout",
          "output_type": "stream",
          "text": [
            "+------+---------+---------+---------+-------------+--------------+-----+--------+-------+---------------+-------------+------+--------------+--------------------+------+--------------------+---------+----+-------------+----------+-------------+-------------------+------------+---------------+----+-----+----------------------+-----------------------+------------+----------------------+\n",
            "|CAR_ID|  CUST_ID|    HH_ID|Active HH|HH Start Date|  Phone Number|  ZIP|HH State|Country|Referral Source|Date of Birth|Gender|Marital Status|     Employment Type|Income|              Status|Car State|Year|         Make|Body Style|Vehicle Value|Annual Miles Driven|Business Use|Antique Vehicle|Lien|Lease|Driver Safety Discount|Vehicle Safety Discount|Claim Payout|6 Month Premium Amount|\n",
            "+------+---------+---------+---------+-------------+--------------+-----+--------+-------+---------------+-------------+------+--------------+--------------------+------+--------------------+---------+----+-------------+----------+-------------+-------------------+------------+---------------+----+-----+----------------------+-----------------------+------------+----------------------+\n",
            "|  1000|324260924|198624253|        1|       1/2/95|(236) 704-6355|11824|      IL|    USA|        Website|     3/9/1947|     F|             D|             Retired|     0|            In Force|       IL|2011|Manufacturer6|       SUV|      12177.2|               7503|           0|              0|   1|    0|                     1|                      0|           0|           288.8454474|\n",
            "| 10000|349649996|188047135|        0|       4/2/92|(680) 814-6105|25905|      CO|    USA|          Email|     3/7/1982|     F|             M|Information Techn...|125282|            In Force|       IN|2013|Manufacturer7|       SUV|     19318.05|              16338|           0|              0|   1|    0|                     0|                      1|           0|           364.0273918|\n",
            "| 10000|349649996|188047135|        0|       4/2/92|(680) 814-6105|25905|      CO|    USA|          Email|     3/7/1982|     F|             M|Information Techn...|125282|Customer Cancella...|       CT|2023|Manufacturer3|       SUV|     14701.25|              20450|           0|              0|   0|    0|                     0|                      0|           0|           61.80116379|\n",
            "| 10000|349649996|188047135|        0|       4/2/92|(680) 814-6105|25905|      CO|    USA|          Email|     3/7/1982|     F|             M|Information Techn...|125282|Customer Cancella...|       RI|2018|Manufacturer2|    4 door|       4576.6|               6441|           0|              0|   1|    0|                     0|                      0|           0|           222.5736463|\n",
            "| 10000|349649996|188047135|        0|       4/2/92|(680) 814-6105|25905|      CO|    USA|          Email|     3/7/1982|     F|             M|Information Techn...|125282|            In Force|       DE|2013|Manufacturer1|    4 door|      13522.5|               6545|           0|              0|   1|    0|                     1|                      0|           0|           133.2435606|\n",
            "+------+---------+---------+---------+-------------+--------------+-----+--------+-------+---------------+-------------+------+--------------+--------------------+------+--------------------+---------+----+-------------+----------+-------------+-------------------+------------+---------------+----+-----+----------------------+-----------------------+------------+----------------------+\n",
            "only showing top 5 rows\n",
            "\n"
          ]
        }
      ],
      "source": [
        "#joining the initial combined df and the cars df on the CAR_ID column\n",
        "\n",
        "final_combined_df = initial_joined_households_customers_df.join(cars_df, 'CAR_ID', 'inner')\n",
        "final_combined_df.show(5)"
      ]
    },
    {
      "cell_type": "markdown",
      "metadata": {
        "id": "onivh793vmTj"
      },
      "source": [
        "# Combined Dataframe cleanup\n",
        "Checking data types and changing to desired if neccessary"
      ]
    },
    {
      "cell_type": "code",
      "execution_count": 16,
      "metadata": {
        "colab": {
          "base_uri": "https://localhost:8080/"
        },
        "id": "v6xTZXWXcvBd",
        "outputId": "00224d7b-b8ba-430b-d0fd-8d85149a9466"
      },
      "outputs": [
        {
          "name": "stdout",
          "output_type": "stream",
          "text": [
            "root\n",
            " |-- CAR_ID: string (nullable = true)\n",
            " |-- CUST_ID: string (nullable = true)\n",
            " |-- HH_ID: string (nullable = true)\n",
            " |-- Active HH: string (nullable = true)\n",
            " |-- HH Start Date: string (nullable = true)\n",
            " |-- Phone Number: string (nullable = true)\n",
            " |-- ZIP: string (nullable = true)\n",
            " |-- HH State: string (nullable = true)\n",
            " |-- Country: string (nullable = true)\n",
            " |-- Referral Source: string (nullable = true)\n",
            " |-- Date of Birth: string (nullable = true)\n",
            " |-- Gender: string (nullable = true)\n",
            " |-- Marital Status: string (nullable = true)\n",
            " |-- Employment Type: string (nullable = true)\n",
            " |-- Income: string (nullable = true)\n",
            " |-- Status: string (nullable = true)\n",
            " |-- Car State: string (nullable = true)\n",
            " |-- Year: string (nullable = true)\n",
            " |-- Make: string (nullable = true)\n",
            " |-- Body Style: string (nullable = true)\n",
            " |-- Vehicle Value: string (nullable = true)\n",
            " |-- Annual Miles Driven: string (nullable = true)\n",
            " |-- Business Use: string (nullable = true)\n",
            " |-- Antique Vehicle: string (nullable = true)\n",
            " |-- Lien: string (nullable = true)\n",
            " |-- Lease: string (nullable = true)\n",
            " |-- Driver Safety Discount: string (nullable = true)\n",
            " |-- Vehicle Safety Discount: string (nullable = true)\n",
            " |-- Claim Payout: string (nullable = true)\n",
            " |-- 6 Month Premium Amount: string (nullable = true)\n",
            "\n"
          ]
        }
      ],
      "source": [
        "# using the .printSchema to see datatypes - will change depending on what I assume the business use will be.\n",
        "\n",
        "final_combined_df.printSchema()"
      ]
    },
    {
      "cell_type": "code",
      "execution_count": 17,
      "metadata": {
        "colab": {
          "base_uri": "https://localhost:8080/"
        },
        "id": "9myOlDuoxqsA",
        "outputId": "5d8ade85-a6b6-480f-d95a-ec2ed7a642e5"
      },
      "outputs": [
        {
          "name": "stdout",
          "output_type": "stream",
          "text": [
            "+------+---------+---------+---------+-------------+--------------+-----+--------+-------+---------------+-------------+------+--------------+--------------------+------+--------------------+---------+----+-------------+----------+-------------+-------------------+------------+---------------+----+-----+----------------------+-----------------------+------------+----------------------+\n",
            "|CAR_ID|  CUST_ID|    HH_ID|Active HH|HH Start Date|  Phone Number|  ZIP|HH State|Country|Referral Source|Date of Birth|Gender|Marital Status|     Employment Type|Income|              Status|Car State|Year|         Make|Body Style|Vehicle Value|Annual Miles Driven|Business Use|Antique Vehicle|Lien|Lease|Driver Safety Discount|Vehicle Safety Discount|Claim Payout|6 Month Premium Amount|\n",
            "+------+---------+---------+---------+-------------+--------------+-----+--------+-------+---------------+-------------+------+--------------+--------------------+------+--------------------+---------+----+-------------+----------+-------------+-------------------+------------+---------------+----+-----+----------------------+-----------------------+------------+----------------------+\n",
            "|  1000|324260924|198624253|        1|   1995-01-02|(236) 704-6355|11824|      IL|    USA|        Website|   1947-03-09|     F|             D|             Retired|     0|            In Force|       IL|2011|Manufacturer6|       SUV|      12177.2|               7503|           0|              0|   1|    0|                     1|                      0|           0|           288.8454474|\n",
            "| 10000|349649996|188047135|        0|   1992-04-02|(680) 814-6105|25905|      CO|    USA|          Email|   1982-03-07|     F|             M|Information Techn...|125282|            In Force|       IN|2013|Manufacturer7|       SUV|     19318.05|              16338|           0|              0|   1|    0|                     0|                      1|           0|           364.0273918|\n",
            "| 10000|349649996|188047135|        0|   1992-04-02|(680) 814-6105|25905|      CO|    USA|          Email|   1982-03-07|     F|             M|Information Techn...|125282|Customer Cancella...|       CT|2023|Manufacturer3|       SUV|     14701.25|              20450|           0|              0|   0|    0|                     0|                      0|           0|           61.80116379|\n",
            "| 10000|349649996|188047135|        0|   1992-04-02|(680) 814-6105|25905|      CO|    USA|          Email|   1982-03-07|     F|             M|Information Techn...|125282|Customer Cancella...|       RI|2018|Manufacturer2|    4 door|       4576.6|               6441|           0|              0|   1|    0|                     0|                      0|           0|           222.5736463|\n",
            "| 10000|349649996|188047135|        0|   1992-04-02|(680) 814-6105|25905|      CO|    USA|          Email|   1982-03-07|     F|             M|Information Techn...|125282|            In Force|       DE|2013|Manufacturer1|    4 door|      13522.5|               6545|           0|              0|   1|    0|                     1|                      0|           0|           133.2435606|\n",
            "+------+---------+---------+---------+-------------+--------------+-----+--------+-------+---------------+-------------+------+--------------+--------------------+------+--------------------+---------+----+-------------+----------+-------------+-------------------+------------+---------------+----+-----+----------------------+-----------------------+------------+----------------------+\n",
            "only showing top 5 rows\n",
            "\n"
          ]
        }
      ],
      "source": [
        "#converting the below to date format based on how they are in the combined dateframe. Example: yyyy-mm-dd, yyyy, dd-mm-yy, etc.\n",
        "\n",
        "final_combined_df = final_combined_df.withColumn(\"HH Start Date\", to_date(final_combined_df[\"HH Start Date\"], \"M/d/yy\"))\n",
        "final_combined_df = final_combined_df.withColumn(\"Date of Birth\", to_date(final_combined_df[\"Date of Birth\"], \"MM/dd/yyyy\"))\n",
        "final_combined_df.show(5)\n"
      ]
    },
    {
      "cell_type": "code",
      "execution_count": 18,
      "metadata": {
        "id": "LE0kvCpFYupJ"
      },
      "outputs": [],
      "source": [
        "#converting the below columns to integer format based on my assumption of the business need. Note that I'm keeping CUST_ID, CAR_ID, and HH_ID as string in case alphanumeric characters need to be added later.\n",
        "\n",
        "columns_to_integer = [\n",
        "    \"Active HH\", \"ZIP\", \"Income\", \"Year\", \"Annual Miles Driven\",\n",
        "    \"Business Use\", \"Antique Vehicle\", \"Lien\", \"Lease\",\n",
        "    \"Driver Safety Discount\", \"Vehicle Safety Discount\", \"Claim Payout\"]\n",
        "\n",
        "#using a simple for loop to convert the desired columns to int - saves time for me\n",
        "\n",
        "for column in columns_to_integer:\n",
        "    final_combined_df = final_combined_df.withColumn(column, col(column).cast(\"int\"))\n",
        "\n"
      ]
    },
    {
      "cell_type": "code",
      "execution_count": 19,
      "metadata": {
        "id": "YHmMH1EpYuxh"
      },
      "outputs": [],
      "source": [
        "#converting the below columns to decimal - shortening 6 Month Premium Amount for ease of storing and processing - should also be precise enough for financial calculations down the line.\n",
        "\n",
        "final_combined_df = final_combined_df.withColumn(\"Vehicle Value\", col(\"Vehicle Value\").cast(\"decimal(10,2)\")) \\\n",
        "                                     .withColumn(\"6 Month Premium Amount\", col(\"6 Month Premium Amount\").cast(\"decimal(20,4)\"))"
      ]
    },
    {
      "cell_type": "markdown",
      "metadata": {
        "id": "bHaOmZW-KQiz"
      },
      "source": [
        "# All columns are now in the (assumed) correct type. Printing the schema and row count"
      ]
    },
    {
      "cell_type": "code",
      "execution_count": 20,
      "metadata": {
        "colab": {
          "base_uri": "https://localhost:8080/"
        },
        "id": "G2pOIUpNYu0R",
        "outputId": "ace3b57d-57f4-423d-98ae-142dfd6e506b"
      },
      "outputs": [
        {
          "name": "stdout",
          "output_type": "stream",
          "text": [
            "root\n",
            " |-- CAR_ID: string (nullable = true)\n",
            " |-- CUST_ID: string (nullable = true)\n",
            " |-- HH_ID: string (nullable = true)\n",
            " |-- Active HH: integer (nullable = true)\n",
            " |-- HH Start Date: date (nullable = true)\n",
            " |-- Phone Number: string (nullable = true)\n",
            " |-- ZIP: integer (nullable = true)\n",
            " |-- HH State: string (nullable = true)\n",
            " |-- Country: string (nullable = true)\n",
            " |-- Referral Source: string (nullable = true)\n",
            " |-- Date of Birth: date (nullable = true)\n",
            " |-- Gender: string (nullable = true)\n",
            " |-- Marital Status: string (nullable = true)\n",
            " |-- Employment Type: string (nullable = true)\n",
            " |-- Income: integer (nullable = true)\n",
            " |-- Status: string (nullable = true)\n",
            " |-- Car State: string (nullable = true)\n",
            " |-- Year: integer (nullable = true)\n",
            " |-- Make: string (nullable = true)\n",
            " |-- Body Style: string (nullable = true)\n",
            " |-- Vehicle Value: decimal(10,2) (nullable = true)\n",
            " |-- Annual Miles Driven: integer (nullable = true)\n",
            " |-- Business Use: integer (nullable = true)\n",
            " |-- Antique Vehicle: integer (nullable = true)\n",
            " |-- Lien: integer (nullable = true)\n",
            " |-- Lease: integer (nullable = true)\n",
            " |-- Driver Safety Discount: integer (nullable = true)\n",
            " |-- Vehicle Safety Discount: integer (nullable = true)\n",
            " |-- Claim Payout: integer (nullable = true)\n",
            " |-- 6 Month Premium Amount: decimal(20,4) (nullable = true)\n",
            "\n"
          ]
        }
      ],
      "source": [
        "#showing the schema\n",
        "\n",
        "final_combined_df.printSchema()"
      ]
    },
    {
      "cell_type": "code",
      "execution_count": 21,
      "metadata": {
        "colab": {
          "base_uri": "https://localhost:8080/"
        },
        "id": "MkUdXLYHfmzS",
        "outputId": "3785a3da-f33b-4578-d49a-0fd42e60dcfa"
      },
      "outputs": [
        {
          "data": {
            "text/plain": [
              "845805"
            ]
          },
          "execution_count": 21,
          "metadata": {},
          "output_type": "execute_result"
        }
      ],
      "source": [
        "#showing the total number of rows\n",
        "\n",
        "final_combined_df.count()"
      ]
    },
    {
      "cell_type": "code",
      "execution_count": 34,
      "metadata": {
        "id": "dRVJwRfTYu2x"
      },
      "outputs": [],
      "source": [
        "#saving to parquet as per the instructions\n",
        "\n",
        "final_combined_df.write.parquet(\"combined_data.parquet\", mode =\"overwrite\") #used this to save locally\n"
      ]
    },
    {
      "cell_type": "code",
      "execution_count": 33,
      "metadata": {
        "colab": {
          "base_uri": "https://localhost:8080/"
        },
        "id": "0sQzpqh7Yu5Z",
        "outputId": "7ccaf2c0-c4a9-4cac-85a3-5eb43f381d46"
      },
      "outputs": [
        {
          "name": "stdout",
          "output_type": "stream",
          "text": [
            "Drive already mounted at /content/drive; to attempt to forcibly remount, call drive.mount(\"/content/drive\", force_remount=True).\n"
          ]
        }
      ],
      "source": [
        "#mounting my google drive for quicker file access\n",
        "drive.mount('/content/drive')\n",
        "\n",
        "#saving the parquet file to my google drive\n",
        "final_combined_df.write.parquet(\"/content/drive/My Drive/combined_data.parquet\", mode=\"overwrite\")"
      ]
    }
  ],
  "metadata": {
    "colab": {
      "provenance": []
    },
    "kernelspec": {
      "display_name": "Python 3",
      "name": "python3"
    },
    "language_info": {
      "name": "python"
    }
  },
  "nbformat": 4,
  "nbformat_minor": 0
}
