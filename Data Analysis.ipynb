{
  "nbformat": 4,
  "nbformat_minor": 0,
  "metadata": {
    "colab": {
      "provenance": []
    },
    "kernelspec": {
      "name": "python3",
      "display_name": "Python 3"
    },
    "language_info": {
      "name": "python"
    }
  },
  "cells": [
    {
      "cell_type": "markdown",
      "source": [
        "# Importing dependencies/libraries needed + initial setup"
      ],
      "metadata": {
        "id": "Ax-CDqMpKbaR"
      }
    },
    {
      "cell_type": "code",
      "source": [
        "#installing pyspark in this environment\n",
        "\n",
        "!pip install pyspark"
      ],
      "metadata": {
        "colab": {
          "base_uri": "https://localhost:8080/"
        },
        "id": "oGfmQWE1LUBj",
        "outputId": "acca30b6-740b-40e4-a7b0-7014f4c05bd6"
      },
      "execution_count": 1,
      "outputs": [
        {
          "output_type": "stream",
          "name": "stdout",
          "text": [
            "Requirement already satisfied: pyspark in /usr/local/lib/python3.10/dist-packages (3.5.1)\n",
            "Requirement already satisfied: py4j==0.10.9.7 in /usr/local/lib/python3.10/dist-packages (from pyspark) (0.10.9.7)\n"
          ]
        }
      ]
    },
    {
      "cell_type": "code",
      "source": [
        "#importing the package that I'm going to use do my data analysis\n",
        "\n",
        "from google.colab import files\n",
        "from google.colab import drive\n",
        "from pyspark.sql import SparkSession\n",
        "from pyspark.sql import functions as F\n",
        "from pyspark.sql.functions import col, avg, round, datediff, current_date, count, stddev, floor, expr, min, max, when, desc\n",
        "from datetime import datetime"
      ],
      "metadata": {
        "id": "fYnLwoDOLtwG"
      },
      "execution_count": 222,
      "outputs": []
    },
    {
      "cell_type": "code",
      "source": [
        "#creating a SparkSession\n",
        "spark = SparkSession.builder.appName(\"Data Analysis - State Farm\").getOrCreate()"
      ],
      "metadata": {
        "id": "7mt9yuwTKpJ5"
      },
      "execution_count": 3,
      "outputs": []
    },
    {
      "cell_type": "code",
      "source": [
        "#reading in the parquet I created in part 1\n",
        "\n",
        "combined_info_df = spark.read.parquet(\"part-*.snappy.parquet\")"
      ],
      "metadata": {
        "id": "oPTBQR9UKpM5"
      },
      "execution_count": 166,
      "outputs": []
    },
    {
      "cell_type": "code",
      "source": [
        "# displaying the dataframe to make sure everything looks correct\n",
        "\n",
        "combined_info_df.show(5)"
      ],
      "metadata": {
        "colab": {
          "base_uri": "https://localhost:8080/"
        },
        "id": "qLwJ6XZwKpPR",
        "outputId": "6b55c7e2-c607-43b1-ee4b-08a4a2f1c175"
      },
      "execution_count": 167,
      "outputs": [
        {
          "output_type": "stream",
          "name": "stdout",
          "text": [
            "+------+---------+---------+---------+-------------+--------------+-----+--------+-------+---------------+-------------+------+--------------+--------------------+------+--------------------+---------+----+-------------+----------+-------------+-------------------+------------+---------------+----+-----+----------------------+-----------------------+------------+----------------------+\n",
            "|CAR_ID|  CUST_ID|    HH_ID|Active HH|HH Start Date|  Phone Number|  ZIP|HH State|Country|Referral Source|Date of Birth|Gender|Marital Status|     Employment Type|Income|              Status|Car State|Year|         Make|Body Style|Vehicle Value|Annual Miles Driven|Business Use|Antique Vehicle|Lien|Lease|Driver Safety Discount|Vehicle Safety Discount|Claim Payout|6 Month Premium Amount|\n",
            "+------+---------+---------+---------+-------------+--------------+-----+--------+-------+---------------+-------------+------+--------------+--------------------+------+--------------------+---------+----+-------------+----------+-------------+-------------------+------------+---------------+----+-----+----------------------+-----------------------+------------+----------------------+\n",
            "|100012|183236121|493603649|        1|   2006-07-26|(778) 213-7496|35751|      SC|    USA|          Event|   1949-02-27|     M|             S|             Retired|     0|            In Force|       KY|2011|Manufacturer2|    4 door|      2504.95|              13524|           0|              0|   1|    0|                     0|                      0|           0|               76.7586|\n",
            "|100012|183236121|493603649|        1|   2006-07-26|(778) 213-7496|35751|      SC|    USA|          Event|   1949-02-27|     M|             S|             Retired|     0|            In Force|       SC|1952|Manufacturer3|       SUV|       500.00|               2248|           0|              0|   1|    0|                     0|                      0|           0|              252.7925|\n",
            "|100012|207608162|599057482|        1|   2004-10-22|(978) 261-3197|54006|      KY|    USA|          Event|   2008-12-05|     M|             S|Business and Fina...| 84923|            In Force|       KY|2011|Manufacturer2|    4 door|      2504.95|              13524|           0|              0|   1|    0|                     0|                      0|           0|               76.7586|\n",
            "|100012|207608162|599057482|        1|   2004-10-22|(978) 261-3197|54006|      KY|    USA|          Event|   2008-12-05|     M|             S|Business and Fina...| 84923|            In Force|       SC|1952|Manufacturer3|       SUV|       500.00|               2248|           0|              0|   1|    0|                     0|                      0|           0|              252.7925|\n",
            "|100017|260585792|583167109|        1|   1992-10-17|(901) 789-6162|28550|      MO|    USA|         Friend|   1987-08-10|     M|             M|Healthcare Practi...|110880|Customer Cancella...|       MO|2004|Manufacturer7|    2 door|       500.00|               3950|           0|              0|   0|    1|                     1|                      0|           0|               83.5275|\n",
            "+------+---------+---------+---------+-------------+--------------+-----+--------+-------+---------------+-------------+------+--------------+--------------------+------+--------------------+---------+----+-------------+----------+-------------+-------------------+------------+---------------+----+-----+----------------------+-----------------------+------------+----------------------+\n",
            "only showing top 5 rows\n",
            "\n"
          ]
        }
      ]
    },
    {
      "cell_type": "markdown",
      "source": [
        "# Question 1:\n",
        "What is the average number of cars per household? ~3.8<br />\n",
        "To calculate this I'm going to calculate the average number of cars per unique HH_ID"
      ],
      "metadata": {
        "id": "DGYfEt2OKpRp"
      }
    },
    {
      "cell_type": "code",
      "source": [
        "#grouping by HH_ID and counting the number of distinct CAR_IDs per household\n",
        "\n",
        "cars_per_household_df = combined_info_df.groupBy(\"HH_ID\").agg(F.countDistinct(\"CAR_ID\").alias(\"num_cars\"))"
      ],
      "metadata": {
        "id": "-JSbq4AoKpUB"
      },
      "execution_count": 168,
      "outputs": []
    },
    {
      "cell_type": "code",
      "source": [
        "#calculating the average of the cars per household found above and rounding for readability\n",
        "\n",
        "average_cars_per_household = cars_per_household_df.agg(F.avg(\"num_cars\")).first()[0]\n",
        "# rounded_avg = round(average_cars_per_household, 3)\n",
        "\n",
        "print(f\"Average number of cars per household: {average_cars_per_household}\")"
      ],
      "metadata": {
        "colab": {
          "base_uri": "https://localhost:8080/"
        },
        "id": "m0A5y9C-KpWh",
        "outputId": "656f4a05-0009-4cdb-c14b-a0ecaf5af391"
      },
      "execution_count": 169,
      "outputs": [
        {
          "output_type": "stream",
          "name": "stdout",
          "text": [
            "Average number of cars per household: 3.8065579511541507\n"
          ]
        }
      ]
    },
    {
      "cell_type": "markdown",
      "source": [
        "# Question 2:\n",
        "How many cars are there by age? I'm going to break this into multiple steps. <br />\n",
        "Step 1 will be determining the cars age (I'm going to subtract the year of the car from the current year). <br />\n",
        "Step 2 will be grouping all the cars together by their calculated age.<br />\n",
        "Step 3 will be counting the number of cars in each group - Example: There are 123 cars that are 20 years old."
      ],
      "metadata": {
        "id": "CFZZWQHyU4v-"
      }
    },
    {
      "cell_type": "code",
      "source": [
        "#calculating the current year (I could also hardcode this if needed)\n",
        "\n",
        "current_year = datetime.now().year\n",
        "print(current_year)"
      ],
      "metadata": {
        "colab": {
          "base_uri": "https://localhost:8080/"
        },
        "id": "fkgKdAHiZJNH",
        "outputId": "5d7e4490-80a2-4994-e4f6-2e2ed2356e79"
      },
      "execution_count": 170,
      "outputs": [
        {
          "output_type": "stream",
          "name": "stdout",
          "text": [
            "2024\n"
          ]
        }
      ]
    },
    {
      "cell_type": "code",
      "source": [
        "#calculating the age of each car and creating a new column to hold our vehicle age\n",
        "\n",
        "combined_info_df = combined_info_df.withColumn(\"Car Age\", F.lit(current_year) - F.col(\"Year\"))"
      ],
      "metadata": {
        "id": "Gs2OawkXZJPf"
      },
      "execution_count": 171,
      "outputs": []
    },
    {
      "cell_type": "code",
      "source": [
        "combined_info_df.show(5)"
      ],
      "metadata": {
        "colab": {
          "base_uri": "https://localhost:8080/"
        },
        "id": "jvpAhS_aZJRn",
        "outputId": "257ce220-994c-4407-d6e8-6db1b75356f8"
      },
      "execution_count": 172,
      "outputs": [
        {
          "output_type": "stream",
          "name": "stdout",
          "text": [
            "+------+---------+---------+---------+-------------+--------------+-----+--------+-------+---------------+-------------+------+--------------+--------------------+------+--------------------+---------+----+-------------+----------+-------------+-------------------+------------+---------------+----+-----+----------------------+-----------------------+------------+----------------------+-------+\n",
            "|CAR_ID|  CUST_ID|    HH_ID|Active HH|HH Start Date|  Phone Number|  ZIP|HH State|Country|Referral Source|Date of Birth|Gender|Marital Status|     Employment Type|Income|              Status|Car State|Year|         Make|Body Style|Vehicle Value|Annual Miles Driven|Business Use|Antique Vehicle|Lien|Lease|Driver Safety Discount|Vehicle Safety Discount|Claim Payout|6 Month Premium Amount|Car Age|\n",
            "+------+---------+---------+---------+-------------+--------------+-----+--------+-------+---------------+-------------+------+--------------+--------------------+------+--------------------+---------+----+-------------+----------+-------------+-------------------+------------+---------------+----+-----+----------------------+-----------------------+------------+----------------------+-------+\n",
            "|100012|183236121|493603649|        1|   2006-07-26|(778) 213-7496|35751|      SC|    USA|          Event|   1949-02-27|     M|             S|             Retired|     0|            In Force|       KY|2011|Manufacturer2|    4 door|      2504.95|              13524|           0|              0|   1|    0|                     0|                      0|           0|               76.7586|     13|\n",
            "|100012|183236121|493603649|        1|   2006-07-26|(778) 213-7496|35751|      SC|    USA|          Event|   1949-02-27|     M|             S|             Retired|     0|            In Force|       SC|1952|Manufacturer3|       SUV|       500.00|               2248|           0|              0|   1|    0|                     0|                      0|           0|              252.7925|     72|\n",
            "|100012|207608162|599057482|        1|   2004-10-22|(978) 261-3197|54006|      KY|    USA|          Event|   2008-12-05|     M|             S|Business and Fina...| 84923|            In Force|       KY|2011|Manufacturer2|    4 door|      2504.95|              13524|           0|              0|   1|    0|                     0|                      0|           0|               76.7586|     13|\n",
            "|100012|207608162|599057482|        1|   2004-10-22|(978) 261-3197|54006|      KY|    USA|          Event|   2008-12-05|     M|             S|Business and Fina...| 84923|            In Force|       SC|1952|Manufacturer3|       SUV|       500.00|               2248|           0|              0|   1|    0|                     0|                      0|           0|              252.7925|     72|\n",
            "|100017|260585792|583167109|        1|   1992-10-17|(901) 789-6162|28550|      MO|    USA|         Friend|   1987-08-10|     M|             M|Healthcare Practi...|110880|Customer Cancella...|       MO|2004|Manufacturer7|    2 door|       500.00|               3950|           0|              0|   0|    1|                     1|                      0|           0|               83.5275|     20|\n",
            "+------+---------+---------+---------+-------------+--------------+-----+--------+-------+---------------+-------------+------+--------------+--------------------+------+--------------------+---------+----+-------------+----------+-------------+-------------------+------------+---------------+----+-----+----------------------+-----------------------+------------+----------------------+-------+\n",
            "only showing top 5 rows\n",
            "\n"
          ]
        }
      ]
    },
    {
      "cell_type": "code",
      "source": [
        "#grouping the results by car age and displaying the first 5 records. Here we see there are 27,000 \"new\" cars - aka have a car age of zero.\n",
        "\n",
        "cars_by_age = combined_info_df.groupBy(\"Car Age\").count().orderBy(\"Car Age\")\n",
        "cars_by_age.show(5)\n"
      ],
      "metadata": {
        "colab": {
          "base_uri": "https://localhost:8080/"
        },
        "id": "HOXNBqdXZJU3",
        "outputId": "9ffebd41-db76-453a-bbdb-cc862f7bbcf9"
      },
      "execution_count": 173,
      "outputs": [
        {
          "output_type": "stream",
          "name": "stdout",
          "text": [
            "+-------+-----+\n",
            "|Car Age|count|\n",
            "+-------+-----+\n",
            "|      0|27700|\n",
            "|      1|27492|\n",
            "|      2|27515|\n",
            "|      3|27721|\n",
            "|      4|27233|\n",
            "+-------+-----+\n",
            "only showing top 5 rows\n",
            "\n"
          ]
        }
      ]
    },
    {
      "cell_type": "markdown",
      "source": [
        "# Question 3:\n",
        "How many cars are there by make? <br />\n",
        "Will approach this similar to question 2. <br />\n",
        "I'm going to group the data by the \"Make\" column and then count the number of cars for each make"
      ],
      "metadata": {
        "id": "_7MZQIFYb0gv"
      }
    },
    {
      "cell_type": "code",
      "source": [
        "# using groupby + agg count to show the number of cars per make. The alias isn't needed, but I like it for readability\n",
        "\n",
        "cars_by_make_df = combined_info_df.groupBy(\"Make\").agg(count(\"CAR_ID\").alias(\"Number_of_Cars\"))"
      ],
      "metadata": {
        "id": "6au2ec0_ZJXX"
      },
      "execution_count": 174,
      "outputs": []
    },
    {
      "cell_type": "code",
      "source": [
        "#displaying the cars by make\n",
        "\n",
        "cars_by_make_df.show(10)"
      ],
      "metadata": {
        "colab": {
          "base_uri": "https://localhost:8080/"
        },
        "id": "qpwGjpBNZJZ3",
        "outputId": "cf1e8047-947c-4579-c6c6-f842a04e6619"
      },
      "execution_count": 175,
      "outputs": [
        {
          "output_type": "stream",
          "name": "stdout",
          "text": [
            "+-------------+--------------+\n",
            "|         Make|Number_of_Cars|\n",
            "+-------------+--------------+\n",
            "|Manufacturer5|         58704|\n",
            "|Manufacturer7|        110503|\n",
            "|Manufacturer1|        168954|\n",
            "|Manufacturer3|        168834|\n",
            "|Manufacturer2|        169311|\n",
            "|Manufacturer4|         58928|\n",
            "|Manufacturer6|        110571|\n",
            "+-------------+--------------+\n",
            "\n"
          ]
        }
      ]
    },
    {
      "cell_type": "markdown",
      "source": [
        "# Question 4:\n",
        "Which cars are the safest? Manufacturer4<br />\n",
        "For this I'm going to use the columns only related to the car itself - ie I'm not going to consider things like driver safety discount.<br />\n",
        "I'm going to create a score based on these values: Vehicle Safety Discount, Year, Claim Payout, and Antique Vehicle.<br />\n",
        "\n",
        "I used these factors to create a safety score - I'll go more into how/why when I answer question #6"
      ],
      "metadata": {
        "id": "PJKz8gqxZJhH"
      }
    },
    {
      "cell_type": "code",
      "source": [
        "#calculating the average claim payout per make. My reasoning is higher claim payout = less safe care (more passenger injuries)\n",
        "\n",
        "average_claim_payout_per_make = combined_info_df.groupBy(\"Make\").agg(round(avg(\"Claim Payout\"), 2).alias(\"avg claim payout\"))\n",
        "\n",
        "#joining the average claim payout with the original dataframe\n",
        "\n",
        "claims_avg_df = combined_info_df.join(average_claim_payout_per_make, on=\"Make\")"
      ],
      "metadata": {
        "id": "dLagRFFE5txf"
      },
      "execution_count": 176,
      "outputs": []
    },
    {
      "cell_type": "code",
      "source": [
        "claims_avg_df.show(5)"
      ],
      "metadata": {
        "colab": {
          "base_uri": "https://localhost:8080/"
        },
        "id": "BDf4jIJk54jM",
        "outputId": "5c8620f3-947e-4703-8aa4-77dc26f9b287"
      },
      "execution_count": 177,
      "outputs": [
        {
          "output_type": "stream",
          "name": "stdout",
          "text": [
            "+-------------+------+---------+---------+---------+-------------+--------------+-----+--------+-------+---------------+-------------+------+--------------+--------------------+------+--------------------+---------+----+----------+-------------+-------------------+------------+---------------+----+-----+----------------------+-----------------------+------------+----------------------+-------+----------------+\n",
            "|         Make|CAR_ID|  CUST_ID|    HH_ID|Active HH|HH Start Date|  Phone Number|  ZIP|HH State|Country|Referral Source|Date of Birth|Gender|Marital Status|     Employment Type|Income|              Status|Car State|Year|Body Style|Vehicle Value|Annual Miles Driven|Business Use|Antique Vehicle|Lien|Lease|Driver Safety Discount|Vehicle Safety Discount|Claim Payout|6 Month Premium Amount|Car Age|avg claim payout|\n",
            "+-------------+------+---------+---------+---------+-------------+--------------+-----+--------+-------+---------------+-------------+------+--------------+--------------------+------+--------------------+---------+----+----------+-------------+-------------------+------------+---------------+----+-----+----------------------+-----------------------+------------+----------------------+-------+----------------+\n",
            "|Manufacturer2|100012|183236121|493603649|        1|   2006-07-26|(778) 213-7496|35751|      SC|    USA|          Event|   1949-02-27|     M|             S|             Retired|     0|            In Force|       KY|2011|    4 door|      2504.95|              13524|           0|              0|   1|    0|                     0|                      0|           0|               76.7586|     13|         1159.75|\n",
            "|Manufacturer3|100012|183236121|493603649|        1|   2006-07-26|(778) 213-7496|35751|      SC|    USA|          Event|   1949-02-27|     M|             S|             Retired|     0|            In Force|       SC|1952|       SUV|       500.00|               2248|           0|              0|   1|    0|                     0|                      0|           0|              252.7925|     72|         1196.57|\n",
            "|Manufacturer2|100012|207608162|599057482|        1|   2004-10-22|(978) 261-3197|54006|      KY|    USA|          Event|   2008-12-05|     M|             S|Business and Fina...| 84923|            In Force|       KY|2011|    4 door|      2504.95|              13524|           0|              0|   1|    0|                     0|                      0|           0|               76.7586|     13|         1159.75|\n",
            "|Manufacturer3|100012|207608162|599057482|        1|   2004-10-22|(978) 261-3197|54006|      KY|    USA|          Event|   2008-12-05|     M|             S|Business and Fina...| 84923|            In Force|       SC|1952|       SUV|       500.00|               2248|           0|              0|   1|    0|                     0|                      0|           0|              252.7925|     72|         1196.57|\n",
            "|Manufacturer7|100017|260585792|583167109|        1|   1992-10-17|(901) 789-6162|28550|      MO|    USA|         Friend|   1987-08-10|     M|             M|Healthcare Practi...|110880|Customer Cancella...|       MO|2004|    2 door|       500.00|               3950|           0|              0|   0|    1|                     1|                      0|           0|               83.5275|     20|         1382.84|\n",
            "+-------------+------+---------+---------+---------+-------------+--------------+-----+--------+-------+---------------+-------------+------+--------------+--------------------+------+--------------------+---------+----+----------+-------------+-------------------+------------+---------------+----+-----+----------------------+-----------------------+------------+----------------------+-------+----------------+\n",
            "only showing top 5 rows\n",
            "\n"
          ]
        }
      ]
    },
    {
      "cell_type": "code",
      "source": [
        "#calculating a safety score based on the available columns\n",
        "safety_score_df = claims_avg_df.withColumn(\n",
        "    \"safety_score\",\n",
        "    (col(\"Vehicle Safety Discount\") * 100) + 1900 - col(\"avg claim payout\")  - col(\"Antique Vehicle\") - ((2024 - col(\"Year\")) * 5))\n",
        "\n",
        "# standarding it\n",
        "safety_score_df = safety_score_df.withColumn(\"safety_score\", col(\"safety_score\") / 1000)\n",
        "\n",
        "ranked_cars_df = safety_score_df.orderBy(col(\"safety_score\").desc())\n",
        "\n",
        "# creating a new df to display the safest in decending order\n",
        "\n",
        "safest_score_df = ranked_cars_df.groupBy(\"Make\").agg(F.avg(\"safety_score\").alias(\"avg_safety_score\"))\n",
        "safest_score_df = safest_score_df.withColumn(\"avg_safety_score\", round(\"avg_safety_score\", 2))\n",
        "safest_score_df = safest_score_df.orderBy(col(\"avg_safety_score\").desc())"
      ],
      "metadata": {
        "id": "3IQJ25YecliD"
      },
      "execution_count": 178,
      "outputs": []
    },
    {
      "cell_type": "code",
      "source": [
        "safest_score_df.show(10)"
      ],
      "metadata": {
        "colab": {
          "base_uri": "https://localhost:8080/"
        },
        "id": "nco9KvnIclkk",
        "outputId": "f91b2fc3-d848-4ff0-c6b4-1e3b4fcb72cc"
      },
      "execution_count": 179,
      "outputs": [
        {
          "output_type": "stream",
          "name": "stdout",
          "text": [
            "+-------------+----------------+\n",
            "|         Make|avg_safety_score|\n",
            "+-------------+----------------+\n",
            "|Manufacturer4|            0.92|\n",
            "|Manufacturer5|            0.77|\n",
            "|Manufacturer2|            0.68|\n",
            "|Manufacturer3|            0.64|\n",
            "|Manufacturer6|             0.6|\n",
            "|Manufacturer1|            0.53|\n",
            "|Manufacturer7|            0.46|\n",
            "+-------------+----------------+\n",
            "\n"
          ]
        }
      ]
    },
    {
      "cell_type": "markdown",
      "source": [
        "# Question 5:\n",
        "Which cars are the most dangerous? Manufacturer7<br />\n",
        "For this I'm going to use the columns only related to the car itself - ie I'm not going to consider things like driver safety discount.<br />\n",
        "I'm going to create a score based on these values: Vehicle Safety Discount, Year, Claim Payout, and Antique Vehicle.<br />\n",
        "\n",
        "I used these factors to create a safety score in question 5. - I'll go more into how/why when I answer question #6"
      ],
      "metadata": {
        "id": "DoNUPvUpclnE"
      }
    },
    {
      "cell_type": "code",
      "source": [
        "# since i already created the safest in the last problem, I just sorted the dataframe by ascending to get the most dangerous\n",
        "\n",
        "most_dangerous_df = safest_score_df.orderBy(col(\"avg_safety_score\").asc())\n",
        "most_dangerous_df.show()"
      ],
      "metadata": {
        "colab": {
          "base_uri": "https://localhost:8080/"
        },
        "id": "hKnTyuGZclpj",
        "outputId": "f6589b76-25d4-4d9c-b6dc-15e2da2f434c"
      },
      "execution_count": 180,
      "outputs": [
        {
          "output_type": "stream",
          "name": "stdout",
          "text": [
            "+-------------+----------------+\n",
            "|         Make|avg_safety_score|\n",
            "+-------------+----------------+\n",
            "|Manufacturer7|            0.46|\n",
            "|Manufacturer1|            0.53|\n",
            "|Manufacturer6|             0.6|\n",
            "|Manufacturer3|            0.64|\n",
            "|Manufacturer2|            0.68|\n",
            "|Manufacturer5|            0.77|\n",
            "|Manufacturer4|            0.92|\n",
            "+-------------+----------------+\n",
            "\n"
          ]
        }
      ]
    },
    {
      "cell_type": "markdown",
      "source": [
        "# Question 6:\n",
        "How did you define “safe” versus “dangerous”? <br />\n",
        "\n",
        "When thinging of safe/dangerous I looked at columns relating to the care itself - like year, antique, and safety discount. I also decided to incorperate claims payout into the equation. My reasoning is that if a car is unsafe then vehicle accidents will result in more injuries- resulting in higher claims payouts.\n",
        "I created a sort of weighted formula to calculate the safest/most dangerous car make. Older vehicles, antiques, and whether or not the vehicle had a safety discount all attributed to its final safety score"
      ],
      "metadata": {
        "id": "voT6b5tjclr7"
      }
    },
    {
      "cell_type": "markdown",
      "source": [
        "# Question 7:\n",
        "Which states have the largest households? MI, AR, CA, GA, WA<br />\n",
        "To do this I'm going to group the values by HH_state and calculate the average number of persons per household\n",
        "\n"
      ],
      "metadata": {
        "id": "lO6omSmLLZfw"
      }
    },
    {
      "cell_type": "code",
      "source": [
        "# grouping and counting the hh_id to determine household size\n",
        "\n",
        "household_size = combined_info_df.groupBy(\"HH_ID\").count()\n",
        "\n",
        "\n",
        "#joining the household size with the original dataframe to get state information for each household - renaming the column for clarity\n",
        "df_with_size = combined_info_df.join(household_size, combined_info_df[\"HH_ID\"] == household_size[\"HH_ID\"], how=\"inner\")\n",
        "df_with_size = df_with_size.withColumnRenamed(\"count\", \"hh_size\")"
      ],
      "metadata": {
        "id": "JG4bRF0SSOPf"
      },
      "execution_count": 181,
      "outputs": []
    },
    {
      "cell_type": "code",
      "source": [
        "df_with_size.show(5)"
      ],
      "metadata": {
        "colab": {
          "base_uri": "https://localhost:8080/"
        },
        "id": "GoSEcJbaLZko",
        "outputId": "864b841b-ea1c-4c26-bf91-6bb703e8cefe"
      },
      "execution_count": 182,
      "outputs": [
        {
          "output_type": "stream",
          "name": "stdout",
          "text": [
            "+------+---------+---------+---------+-------------+--------------+-----+--------+-------+---------------+-------------+------+--------------+--------------------+------+--------------------+---------+----+-------------+----------+-------------+-------------------+------------+---------------+----+-----+----------------------+-----------------------+------------+----------------------+-------+---------+-------+\n",
            "|CAR_ID|  CUST_ID|    HH_ID|Active HH|HH Start Date|  Phone Number|  ZIP|HH State|Country|Referral Source|Date of Birth|Gender|Marital Status|     Employment Type|Income|              Status|Car State|Year|         Make|Body Style|Vehicle Value|Annual Miles Driven|Business Use|Antique Vehicle|Lien|Lease|Driver Safety Discount|Vehicle Safety Discount|Claim Payout|6 Month Premium Amount|Car Age|    HH_ID|hh_size|\n",
            "+------+---------+---------+---------+-------------+--------------+-----+--------+-------+---------------+-------------+------+--------------+--------------------+------+--------------------+---------+----+-------------+----------+-------------+-------------------+------------+---------------+----+-----+----------------------+-----------------------+------------+----------------------+-------+---------+-------+\n",
            "|100012|183236121|493603649|        1|   2006-07-26|(778) 213-7496|35751|      SC|    USA|          Event|   1949-02-27|     M|             S|             Retired|     0|            In Force|       KY|2011|Manufacturer2|    4 door|      2504.95|              13524|           0|              0|   1|    0|                     0|                      0|           0|               76.7586|     13|493603649|      9|\n",
            "|100012|183236121|493603649|        1|   2006-07-26|(778) 213-7496|35751|      SC|    USA|          Event|   1949-02-27|     M|             S|             Retired|     0|            In Force|       SC|1952|Manufacturer3|       SUV|       500.00|               2248|           0|              0|   1|    0|                     0|                      0|           0|              252.7925|     72|493603649|      9|\n",
            "|100012|207608162|599057482|        1|   2004-10-22|(978) 261-3197|54006|      KY|    USA|          Event|   2008-12-05|     M|             S|Business and Fina...| 84923|            In Force|       KY|2011|Manufacturer2|    4 door|      2504.95|              13524|           0|              0|   1|    0|                     0|                      0|           0|               76.7586|     13|599057482|     10|\n",
            "|100012|207608162|599057482|        1|   2004-10-22|(978) 261-3197|54006|      KY|    USA|          Event|   2008-12-05|     M|             S|Business and Fina...| 84923|            In Force|       SC|1952|Manufacturer3|       SUV|       500.00|               2248|           0|              0|   1|    0|                     0|                      0|           0|              252.7925|     72|599057482|     10|\n",
            "|100017|260585792|583167109|        1|   1992-10-17|(901) 789-6162|28550|      MO|    USA|         Friend|   1987-08-10|     M|             M|Healthcare Practi...|110880|Customer Cancella...|       MO|2004|Manufacturer7|    2 door|       500.00|               3950|           0|              0|   0|    1|                     1|                      0|           0|               83.5275|     20|583167109|      6|\n",
            "+------+---------+---------+---------+-------------+--------------+-----+--------+-------+---------------+-------------+------+--------------+--------------------+------+--------------------+---------+----+-------------+----------+-------------+-------------------+------------+---------------+----+-----+----------------------+-----------------------+------------+----------------------+-------+---------+-------+\n",
            "only showing top 5 rows\n",
            "\n"
          ]
        }
      ]
    },
    {
      "cell_type": "code",
      "source": [
        "#calculating the average household size per state by grouping by HH State and averaging the count of hh_size (which we calculated above)\n",
        "\n",
        "avg_household_size_by_state = df_with_size.groupBy(\"HH State\").avg(\"hh_size\")\n",
        "\n",
        "#ordering by largest to smallest average household size - displaying top 5\n",
        "\n",
        "avg_household_size_by_state = avg_household_size_by_state.orderBy(avg_household_size_by_state[\"avg(hh_size)\"].desc())\n",
        "avg_household_size_by_state.show(5)"
      ],
      "metadata": {
        "colab": {
          "base_uri": "https://localhost:8080/"
        },
        "id": "7L9ujG3gW2iy",
        "outputId": "c71a00c3-daae-4c5f-c469-a86c8edbdd27"
      },
      "execution_count": 183,
      "outputs": [
        {
          "output_type": "stream",
          "name": "stdout",
          "text": [
            "+--------+-----------------+\n",
            "|HH State|     avg(hh_size)|\n",
            "+--------+-----------------+\n",
            "|      MI|7.916047972587093|\n",
            "|      AR|7.912389839294971|\n",
            "|      CA|7.878361223312176|\n",
            "|      GA|7.877387981938173|\n",
            "|      WA|7.874041621029573|\n",
            "+--------+-----------------+\n",
            "only showing top 5 rows\n",
            "\n"
          ]
        }
      ]
    },
    {
      "cell_type": "markdown",
      "source": [
        "# Question 8:\n",
        "What is the average age of customers? <br />\n",
        "To do this I created a new column called \"age\" - much like I did for the car age. I then calculated the age by grouping the dataframe by itself - since I needed the overall average."
      ],
      "metadata": {
        "id": "j6YkAECnLZm4"
      }
    },
    {
      "cell_type": "code",
      "source": [
        "#finding the age of each customer\n",
        "\n",
        "age_df = combined_info_df.withColumn(\"Age\", datediff(current_date(), \"Date of Birth\") / 365)\n",
        "\n",
        "#calculating the average age\n",
        "\n",
        "average_age_result = age_df.agg(round(avg(\"Age\"), 2)).first()[0]\n",
        "print(f\"Average age of customers is {average_age_result}\")"
      ],
      "metadata": {
        "colab": {
          "base_uri": "https://localhost:8080/"
        },
        "id": "J-aHl0K9Z3sc",
        "outputId": "81a3b318-aa4f-4fc0-d3f1-09d19262ad84"
      },
      "execution_count": 184,
      "outputs": [
        {
          "output_type": "stream",
          "name": "stdout",
          "text": [
            "Average age of customers is 50.56\n"
          ]
        }
      ]
    },
    {
      "cell_type": "markdown",
      "source": [
        "# Question 9:\n",
        "How much does age vary by region? KY, PA, and WV have the most variation.<br />\n",
        "Since 'region' is abiguous - I'm going to do by state. Will do more of an aggregated region approach time permitting. <br />\n",
        "I found this age variation by using standard deviation of a newly created customer age column."
      ],
      "metadata": {
        "id": "AUs5Rbq4bUbS"
      }
    },
    {
      "cell_type": "code",
      "source": [
        "#creating a new column customer age - using floor to round down (since most people don't round their age up)\n",
        "\n",
        "combined_info_df = combined_info_df.withColumn(\"Customer Age\", floor(datediff(current_date(), col(\"Date of Birth\")) / 365))"
      ],
      "metadata": {
        "id": "6PEDHZ0xc3vV"
      },
      "execution_count": 192,
      "outputs": []
    },
    {
      "cell_type": "code",
      "source": [
        "#calculating the standard deviation of the customer age column and grouping it by hh state - ordering by descending\n",
        "age_stddev_df = combined_info_df.groupBy(\"HH State\").agg(stddev(\"Customer Age\").alias(\"AgeStdDev\"))\n",
        "age_stddev_df = age_stddev_df.orderBy(\"AgeStdDev\", ascending=False)\n",
        "age_stddev_df.show(5)"
      ],
      "metadata": {
        "colab": {
          "base_uri": "https://localhost:8080/"
        },
        "id": "IoNZ6gOYc30V",
        "outputId": "eb035ed6-d903-422e-d91f-5d476f38d2ca"
      },
      "execution_count": 195,
      "outputs": [
        {
          "output_type": "stream",
          "name": "stdout",
          "text": [
            "+--------+------------------+\n",
            "|HH State|         AgeStdDev|\n",
            "+--------+------------------+\n",
            "|      KY| 25.78204507065621|\n",
            "|      PA|25.773153433990718|\n",
            "|      WV|25.742397541504932|\n",
            "|      WA|25.725187332850236|\n",
            "|      CA|25.706508939877047|\n",
            "+--------+------------------+\n",
            "only showing top 5 rows\n",
            "\n"
          ]
        }
      ]
    },
    {
      "cell_type": "markdown",
      "source": [
        "# Question 10:\n",
        "Which age group has the most expensive claims? 55-64 age group <br />\n",
        "I'm going to answer this by creating a bin of ages and calculate the average claim amount of each binned group.\n"
      ],
      "metadata": {
        "id": "dIQvOTYxbUd6"
      }
    },
    {
      "cell_type": "code",
      "source": [
        "#placing customer in bins based on their age.\n",
        "\n",
        "age_groups_df = combined_info_df.withColumn(\n",
        "    \"AgeGroup\",\n",
        "    expr(\n",
        "        \"CASE WHEN `Customer Age` < 18 THEN 'Under 18' \\\n",
        "              WHEN `Customer Age` >= 18 AND `Customer Age` < 25 THEN '18-24' \\\n",
        "              WHEN `Customer Age` >= 25 AND `Customer Age` < 35 THEN '25-34' \\\n",
        "              WHEN `Customer Age` >= 35 AND `Customer Age` < 45 THEN '35-44' \\\n",
        "              WHEN `Customer Age` >= 45 AND `Customer Age` < 55 THEN '45-54' \\\n",
        "              WHEN `Customer Age` >= 55 AND `Customer Age` < 65 THEN '55-64' \\\n",
        "              ELSE '65 and Over' END\"))\n"
      ],
      "metadata": {
        "id": "GqP-5TdcbUgc"
      },
      "execution_count": 203,
      "outputs": []
    },
    {
      "cell_type": "code",
      "source": [
        "age_groups_df.show(5)"
      ],
      "metadata": {
        "colab": {
          "base_uri": "https://localhost:8080/"
        },
        "id": "l3KBkYDrbUii",
        "outputId": "51761e5d-3715-46b9-a999-021e87575bbf"
      },
      "execution_count": 205,
      "outputs": [
        {
          "output_type": "stream",
          "name": "stdout",
          "text": [
            "+------+---------+---------+---------+-------------+--------------+-----+--------+-------+---------------+-------------+------+--------------+--------------------+------+--------------------+---------+----+-------------+----------+-------------+-------------------+------------+---------------+----+-----+----------------------+-----------------------+------------+----------------------+-------+------------+-----------+\n",
            "|CAR_ID|  CUST_ID|    HH_ID|Active HH|HH Start Date|  Phone Number|  ZIP|HH State|Country|Referral Source|Date of Birth|Gender|Marital Status|     Employment Type|Income|              Status|Car State|Year|         Make|Body Style|Vehicle Value|Annual Miles Driven|Business Use|Antique Vehicle|Lien|Lease|Driver Safety Discount|Vehicle Safety Discount|Claim Payout|6 Month Premium Amount|Car Age|Customer Age|   AgeGroup|\n",
            "+------+---------+---------+---------+-------------+--------------+-----+--------+-------+---------------+-------------+------+--------------+--------------------+------+--------------------+---------+----+-------------+----------+-------------+-------------------+------------+---------------+----+-----+----------------------+-----------------------+------------+----------------------+-------+------------+-----------+\n",
            "|100012|183236121|493603649|        1|   2006-07-26|(778) 213-7496|35751|      SC|    USA|          Event|   1949-02-27|     M|             S|             Retired|     0|            In Force|       KY|2011|Manufacturer2|    4 door|      2504.95|              13524|           0|              0|   1|    0|                     0|                      0|           0|               76.7586|     13|          75|65 and Over|\n",
            "|100012|183236121|493603649|        1|   2006-07-26|(778) 213-7496|35751|      SC|    USA|          Event|   1949-02-27|     M|             S|             Retired|     0|            In Force|       SC|1952|Manufacturer3|       SUV|       500.00|               2248|           0|              0|   1|    0|                     0|                      0|           0|              252.7925|     72|          75|65 and Over|\n",
            "|100012|207608162|599057482|        1|   2004-10-22|(978) 261-3197|54006|      KY|    USA|          Event|   2008-12-05|     M|             S|Business and Fina...| 84923|            In Force|       KY|2011|Manufacturer2|    4 door|      2504.95|              13524|           0|              0|   1|    0|                     0|                      0|           0|               76.7586|     13|          15|   Under 18|\n",
            "|100012|207608162|599057482|        1|   2004-10-22|(978) 261-3197|54006|      KY|    USA|          Event|   2008-12-05|     M|             S|Business and Fina...| 84923|            In Force|       SC|1952|Manufacturer3|       SUV|       500.00|               2248|           0|              0|   1|    0|                     0|                      0|           0|              252.7925|     72|          15|   Under 18|\n",
            "|100017|260585792|583167109|        1|   1992-10-17|(901) 789-6162|28550|      MO|    USA|         Friend|   1987-08-10|     M|             M|Healthcare Practi...|110880|Customer Cancella...|       MO|2004|Manufacturer7|    2 door|       500.00|               3950|           0|              0|   0|    1|                     1|                      0|           0|               83.5275|     20|          36|      35-44|\n",
            "+------+---------+---------+---------+-------------+--------------+-----+--------+-------+---------------+-------------+------+--------------+--------------------+------+--------------------+---------+----+-------------+----------+-------------+-------------------+------------+---------------+----+-----+----------------------+-----------------------+------------+----------------------+-------+------------+-----------+\n",
            "only showing top 5 rows\n",
            "\n"
          ]
        }
      ]
    },
    {
      "cell_type": "code",
      "source": [
        "#grouping the age groups together and determining their average claim payout\n",
        "\n",
        "avg_claim_payout_by_age_group = age_groups_df.groupBy(\"AgeGroup\").agg(avg(\"Claim Payout\").alias(\"AvgClaimPayout\"))\n",
        "max_claim_payout_age_group = avg_claim_payout_by_age_group.orderBy(\"AvgClaimPayout\", ascending=False).first()"
      ],
      "metadata": {
        "id": "yDCT_EGviISg"
      },
      "execution_count": 214,
      "outputs": []
    },
    {
      "cell_type": "code",
      "source": [
        "#here we see that accourding to our data the 55-64 age group has the most expensive claims on average\n",
        "\n",
        "print(max_claim_payout_age_group)"
      ],
      "metadata": {
        "colab": {
          "base_uri": "https://localhost:8080/"
        },
        "id": "cmtFSJUNj2Et",
        "outputId": "ee0eb815-4d74-4916-d124-782982ec4b21"
      },
      "execution_count": 215,
      "outputs": [
        {
          "output_type": "stream",
          "name": "stdout",
          "text": [
            "Row(AgeGroup='55-64', AvgClaimPayout=1281.055329282979)\n"
          ]
        }
      ]
    },
    {
      "cell_type": "markdown",
      "source": [
        "# Revisiting Question 9:\n",
        "I'm going to approach this with a more 'regional' mindset - creating bins for regions of the US and placing certain states into them"
      ],
      "metadata": {
        "id": "Fn5TP3Fwj2HF"
      }
    },
    {
      "cell_type": "code",
      "source": [
        "#creating region bins based on regions I found on google\n",
        "regions = {\n",
        "    \"Northeast\": [\"CT\", \"ME\", \"MA\", \"NH\", \"RI\", \"VT\", \"NJ\", \"NY\", \"PA\"],\n",
        "    \"Midwest\": [\"IL\", \"IN\", \"MI\", \"OH\", \"WI\", \"IA\", \"KS\", \"MN\", \"MO\", \"NE\", \"ND\", \"SD\"],\n",
        "    \"South\": [\"DE\", \"FL\", \"GA\", \"MD\", \"NC\", \"SC\", \"VA\", \"DC\", \"WV\", \"AL\", \"KY\", \"MS\", \"TN\", \"AR\", \"LA\", \"OK\", \"TX\"],\n",
        "    \"West\": [\"AZ\", \"CO\", \"ID\", \"MT\", \"NV\", \"NM\", \"UT\", \"WY\", \"CA\", \"OR\", \"WA\"],\n",
        "    \"Alaska & Hawaii\": [\"AK\", \"HI\"]}"
      ],
      "metadata": {
        "id": "VaeT18Hgj2Jd"
      },
      "execution_count": 218,
      "outputs": []
    },
    {
      "cell_type": "code",
      "source": [
        "#creating a new columns 'region' based on the specified above regions. I'm not sure hot to handle DC or Us protectorates so I used \"other\"\n",
        "combined_info_df = combined_info_df.withColumn(\n",
        "    \"Region\",\n",
        "    when(col(\"HH State\").isin(regions[\"Northeast\"]), \"Northeast\")\n",
        "    .when(col(\"HH State\").isin(regions[\"Midwest\"]), \"Midwest\")\n",
        "    .when(col(\"HH State\").isin(regions[\"South\"]), \"South\")\n",
        "    .when(col(\"HH State\").isin(regions[\"West\"]), \"West\")\n",
        "    .when(col(\"HH State\").isin(regions[\"Alaska & Hawaii\"]), \"Alaska & Hawaii\")\n",
        "    .otherwise(\"Other\")\n",
        ")"
      ],
      "metadata": {
        "id": "WUMTm6RElIOP"
      },
      "execution_count": 219,
      "outputs": []
    },
    {
      "cell_type": "code",
      "source": [
        "#grouping the data by region and calculating the standard deviation of ages within each region - similar to what I originally did, just on a regional scale instead of state.\n",
        "\n",
        "age_variation_by_region = combined_info_df.groupBy(\"Region\").agg(stddev(\"Customer Age\").alias(\"AgeVariation\"))\n",
        "age_variation_by_region_desc = age_variation_by_region.orderBy(desc(\"AgeVariation\"))\n",
        "\n"
      ],
      "metadata": {
        "id": "C8MtYX_clIQn"
      },
      "execution_count": 225,
      "outputs": []
    },
    {
      "cell_type": "code",
      "source": [
        "#when grouped by region, Alaska and Hawaii have the most variation of age by region.\n",
        "\n",
        "age_variation_by_region_desc.show()"
      ],
      "metadata": {
        "colab": {
          "base_uri": "https://localhost:8080/"
        },
        "id": "F6hFCHiGlITB",
        "outputId": "d5f17a28-c465-4a90-dd98-98dad0575eb5"
      },
      "execution_count": 227,
      "outputs": [
        {
          "output_type": "stream",
          "name": "stdout",
          "text": [
            "+---------------+------------------+\n",
            "|         Region|      AgeVariation|\n",
            "+---------------+------------------+\n",
            "|Alaska & Hawaii| 25.60378172319714|\n",
            "|      Northeast| 25.56367930743783|\n",
            "|           West|25.554609130779536|\n",
            "|          South|25.550928584371444|\n",
            "|        Midwest|25.525246300120145|\n",
            "+---------------+------------------+\n",
            "\n"
          ]
        }
      ]
    }
  ]
}